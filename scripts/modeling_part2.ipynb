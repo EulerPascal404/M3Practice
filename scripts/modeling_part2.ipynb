{
 "cells": [
  {
   "cell_type": "code",
   "execution_count": 1,
   "metadata": {},
   "outputs": [],
   "source": [
    "import pandas as pd\n",
    "import numpy as np\n",
    "import matplotlib.pyplot as plt\n",
    "import seaborn as sns"
   ]
  },
  {
   "cell_type": "code",
   "execution_count": 2,
   "metadata": {},
   "outputs": [],
   "source": [
    "albuquerque_population_data = pd.read_csv(\"../demand_influx_data/resident_population_albuquerque.csv\")\n",
    "seattle_population_data = pd.read_csv(\"../demand_influx_data/resident_population_seattle.csv\")"
   ]
  },
  {
   "cell_type": "code",
   "execution_count": 132,
   "metadata": {},
   "outputs": [
    {
     "name": "stderr",
     "output_type": "stream",
     "text": [
      "<ipython-input-132-0bfc1fd49341>:4: RuntimeWarning: overflow encountered in exp\n",
      "  return a / (1 + np.exp(-b * (x))) + c\n"
     ]
    }
   ],
   "source": [
    "import scipy.optimize as opt\n",
    "\n",
    "def f(x, a, b, c):\n",
    "    return a / (1 + np.exp(-b * (x))) + c\n",
    "\n",
    "popt, pcov = opt.curve_fit(f, np.array(range(len(albuquerque_population_data))), albuquerque_population_data[\"ABQPOP\"].values, method=\"trf\")\n",
    "y_fit = f(np.array(range(len(albuquerque_population_data))), *popt)"
   ]
  },
  {
   "cell_type": "code",
   "execution_count": 133,
   "metadata": {},
   "outputs": [
    {
     "data": {
      "text/plain": [
       "[<matplotlib.lines.Line2D at 0x156ae75bf10>]"
      ]
     },
     "execution_count": 133,
     "metadata": {},
     "output_type": "execute_result"
    },
    {
     "data": {
      "image/png": "[encoded data removed]",
      "text/plain": [
       "<Figure size 432x288 with 1 Axes>"
      ]
     },
     "metadata": {
      "needs_background": "light"
     },
     "output_type": "display_data"
    }
   ],
   "source": [
    "plt.plot(range(len(albuquerque_population_data)), albuquerque_population_data[\"ABQPOP\"].values)\n",
    "plt.plot(range(len(albuquerque_population_data), len(albuquerque_population_data)+50), [f(x, popt[0], popt[1], popt[2]) for x in range(len(albuquerque_population_data), len(albuquerque_population_data)+50)])"
   ]
  },
  {
   "cell_type": "code",
   "execution_count": 138,
   "metadata": {},
   "outputs": [],
   "source": [
    "albuquerque_pop_data = pd.DataFrame({\n",
    "    \"year\" : list(range(2023, 2073)),\n",
    "    \"population\" : [1000 * f(x, popt[0], popt[1], popt[2]) for x in range(len(albuquerque_population_data), len(albuquerque_population_data)+50)]\n",
    "})\n",
    "\n",
    "albuquerque_pop_data.to_csv(\"albuquerque_population_data.csv\", index=False)"
   ]
  },
  {
   "cell_type": "code",
   "execution_count": 139,
   "metadata": {},
   "outputs": [
    {
     "name": "stderr",
     "output_type": "stream",
     "text": [
      "<ipython-input-139-3ca56337f4b8>:4: RuntimeWarning: overflow encountered in exp\n",
      "  return a / (1 + np.exp(-b * (x))) + c\n"
     ]
    }
   ],
   "source": [
    "import scipy.optimize as opt\n",
    "\n",
    "def f(x, a, b, c):\n",
    "    return a / (1 + np.exp(-b * (x))) + c\n",
    "\n",
    "popt, pcov = opt.curve_fit(f, np.array(range(len(seattle_population_data))), seattle_population_data[\"STWPOP\"].values, method=\"trf\", maxfev=5000)\n",
    "y_fit = f(np.array(range(len(seattle_population_data))), *popt)"
   ]
  },
  {
   "cell_type": "code",
   "execution_count": 140,
   "metadata": {},
   "outputs": [
    {
     "data": {
      "text/plain": [
       "[<matplotlib.lines.Line2D at 0x156ae7e6910>]"
      ]
     },
     "execution_count": 140,
     "metadata": {},
     "output_type": "execute_result"
    },
    {
     "data": {
      "image/png": "[encoded data removed]",
      "text/plain": [
       "<Figure size 432x288 with 1 Axes>"
      ]
     },
     "metadata": {
      "needs_background": "light"
     },
     "output_type": "display_data"
    }
   ],
   "source": [
    "plt.plot(range(len(seattle_population_data)), seattle_population_data[\"STWPOP\"].values)\n",
    "plt.plot(range(len(seattle_population_data), len(seattle_population_data)+50), [f(x, popt[0], popt[1], popt[2]) for x in range(len(seattle_population_data), len(seattle_population_data)+50)])"
   ]
  },
  {
   "cell_type": "code",
   "execution_count": 141,
   "metadata": {},
   "outputs": [],
   "source": [
    "seattle_pop_data = pd.DataFrame({\n",
    "    \"year\" : list(range(2023, 2073)),\n",
    "    \"population\" : [1000 * f(x, popt[0], popt[1], popt[2]) for x in range(len(seattle_population_data), len(seattle_population_data)+50)]\n",
    "})\n",
    "\n",
    "seattle_pop_data.to_csv(\"seattle_population_data.csv\", index=False)"
   ]
  },
  {
   "cell_type": "code",
   "execution_count": null,
   "metadata": {},
   "outputs": [],
   "source": []
  }
 ],
 "metadata": {
  "kernelspec": {
   "display_name": "my_env",
   "language": "python",
   "name": "my_env"
  },
  "language_info": {
   "codemirror_mode": {
    "name": "ipython",
    "version": 3
   },
   "file_extension": ".py",
   "mimetype": "text/x-python",
   "name": "python",
   "nbconvert_exporter": "python",
   "pygments_lexer": "ipython3",
   "version": "3.8.3"
  }
 },
 "nbformat": 4,
 "nbformat_minor": 2
}
