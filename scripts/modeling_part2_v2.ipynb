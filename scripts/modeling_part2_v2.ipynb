{
 "cells": [
  {
   "cell_type": "code",
   "execution_count": 4,
   "metadata": {},
   "outputs": [],
   "source": [
    "import pandas as pd\n",
    "import numpy as np\n",
    "import statsmodels.api as sm"
   ]
  },
  {
   "cell_type": "code",
   "execution_count": 2,
   "metadata": {},
   "outputs": [],
   "source": [
    "seattle_unemployment_data = pd.read_csv(\"../unemployment_data/unemployment_data_seattle.csv\")\n",
    "albuquerque_unemployment_data = pd.read_csv(\"../unemployment_data/unemployment_data_Albuquerque.csv\")"
   ]
  },
  {
   "cell_type": "code",
   "execution_count": 41,
   "metadata": {},
   "outputs": [
    {
     "name": "stderr",
     "output_type": "stream",
     "text": [
      "c:\\Users\\ryans\\anaconda3\\lib\\site-packages\\statsmodels\\tsa\\base\\tsa_model.py:159: ValueWarning: No frequency information was provided, so inferred frequency MS will be used.\n",
      "  warnings.warn('No frequency information was'\n",
      "c:\\Users\\ryans\\anaconda3\\lib\\site-packages\\statsmodels\\base\\model.py:567: ConvergenceWarning: Maximum Likelihood optimization failed to converge. Check mle_retvals\n",
      "  warn(\"Maximum Likelihood optimization failed to converge. \"\n"
     ]
    }
   ],
   "source": [
    "mod = sm.tsa.SARIMAX(seattle_unemployment_data[\"SEAT653URN\"], order=(1, 0, 0), trend=[1, 1, 1], dates=seattle_unemployment_data[\"DATE\"], seasonal_order=[1, 1, 1, 12])\n",
    "res = mod.fit()\n",
    "seattle_unemployment_preds = np.array(res.forecast(steps=50))"
   ]
  },
  {
   "cell_type": "code",
   "execution_count": 40,
   "metadata": {},
   "outputs": [
    {
     "name": "stderr",
     "output_type": "stream",
     "text": [
      "c:\\Users\\ryans\\anaconda3\\lib\\site-packages\\statsmodels\\tsa\\base\\tsa_model.py:159: ValueWarning: No frequency information was provided, so inferred frequency MS will be used.\n",
      "  warnings.warn('No frequency information was'\n",
      "c:\\Users\\ryans\\anaconda3\\lib\\site-packages\\statsmodels\\base\\model.py:567: ConvergenceWarning: Maximum Likelihood optimization failed to converge. Check mle_retvals\n",
      "  warn(\"Maximum Likelihood optimization failed to converge. \"\n"
     ]
    }
   ],
   "source": [
    "mod = sm.tsa.SARIMAX(albuquerque_unemployment_data[\"ALBU735UR\"], order=(1, 0, 0), trend=[1, 1, 1], dates=albuquerque_unemployment_data[\"DATE\"], seasonal_order=[1, 1, 1, 12])\n",
    "res = mod.fit()\n",
    "albuquerque_unemployment_preds = np.array(res.forecast(steps=50))"
   ]
  },
  {
   "cell_type": "code",
   "execution_count": 47,
   "metadata": {},
   "outputs": [],
   "source": [
    "seattle_rent = np.array([1069, 1108, 1135, 1228, 1221, 1208, 1185, 1212, 1236, 1292, 1364, 1430, 1491, 1603, 1609])\n",
    "albuquerque_rent = np.array([818, 833, 833, 869, 856, 859, 836, 881, 888, 888, 900, 903, 924, 875, 926])"
   ]
  },
  {
   "cell_type": "code",
   "execution_count": 61,
   "metadata": {},
   "outputs": [
    {
     "name": "stderr",
     "output_type": "stream",
     "text": [
      "c:\\Users\\ryans\\anaconda3\\lib\\site-packages\\statsmodels\\tsa\\base\\tsa_model.py:159: ValueWarning: No frequency information was provided, so inferred frequency MS will be used.\n",
      "  warnings.warn('No frequency information was'\n",
      "c:\\Users\\ryans\\anaconda3\\lib\\site-packages\\statsmodels\\tsa\\base\\tsa_model.py:159: ValueWarning: No frequency information was provided, so inferred frequency MS will be used.\n",
      "  warnings.warn('No frequency information was'\n"
     ]
    }
   ],
   "source": [
    "mod = sm.tsa.SARIMAX(seattle_rent, order=(1, 0, 0), trend=[1, 1, 1], dates=seattle_unemployment_data[\"DATE\"])\n",
    "res = mod.fit()\n",
    "seattle_rent_preds = np.array(res.forecast(steps=53))\n",
    "\n",
    "mod = sm.tsa.SARIMAX(albuquerque_rent, order=(1, 0, 0), trend=[1, 1, 1], dates=albuquerque_unemployment_data[\"DATE\"])\n",
    "res = mod.fit()\n",
    "albuquerque_rent_preds = np.array(res.forecast(steps=53))"
   ]
  },
  {
   "cell_type": "code",
   "execution_count": 52,
   "metadata": {},
   "outputs": [],
   "source": [
    "seattle_income_data = pd.read_csv(\"../economic_data/personal_income_seattle.csv\")\n",
    "albuquerque_income_data = pd.read_csv(\"../economic_data/personal_income_albuquerque.csv\")"
   ]
  },
  {
   "cell_type": "code",
   "execution_count": 69,
   "metadata": {},
   "outputs": [
    {
     "name": "stderr",
     "output_type": "stream",
     "text": [
      "c:\\Users\\ryans\\anaconda3\\lib\\site-packages\\statsmodels\\tsa\\base\\tsa_model.py:159: ValueWarning: No frequency information was provided, so inferred frequency MS will be used.\n",
      "  warnings.warn('No frequency information was'\n"
     ]
    }
   ],
   "source": [
    "mod = sm.tsa.SARIMAX(seattle_income_data[\"SEAT653PCPI\"], order=(1, 0, 0), trend=[1, 1, 1], dates=seattle_unemployment_data[\"DATE\"])\n",
    "res = mod.fit()\n",
    "seattle_income_preds = np.array(res.forecast(steps=50))"
   ]
  },
  {
   "cell_type": "code",
   "execution_count": 68,
   "metadata": {},
   "outputs": [
    {
     "name": "stderr",
     "output_type": "stream",
     "text": [
      "c:\\Users\\ryans\\anaconda3\\lib\\site-packages\\statsmodels\\tsa\\base\\tsa_model.py:159: ValueWarning: No frequency information was provided, so inferred frequency AS-JAN will be used.\n",
      "  warnings.warn('No frequency information was'\n",
      "c:\\Users\\ryans\\anaconda3\\lib\\site-packages\\statsmodels\\tsa\\statespace\\sarimax.py:963: UserWarning: Non-stationary starting autoregressive parameters found. Using zeros as starting parameters.\n",
      "  warn('Non-stationary starting autoregressive parameters'\n"
     ]
    }
   ],
   "source": [
    "mod = sm.tsa.SARIMAX(albuquerque_income_data[\"ALBU735PCPI\"], order=(1, 0, 0), trend=[1, 1, 1], dates=albuquerque_income_data[\"DATE\"])\n",
    "res = mod.fit()\n",
    "albuquerque_income_preds = np.array(res.forecast(steps=50))"
   ]
  },
  {
   "cell_type": "code",
   "execution_count": null,
   "metadata": {},
   "outputs": [],
   "source": [
    "from scipy.optimize import fsolve\n",
    "\n",
    "def func(x):\n",
    "    return [x[0]]"
   ]
  },
  {
   "cell_type": "code",
   "execution_count": 70,
   "metadata": {},
   "outputs": [
    {
     "data": {
      "text/plain": [
       "array([ 59.38051444,  60.44350452,  61.56388246,  62.7726904 ,\n",
       "        64.05024903,  65.39731232,  66.80859756,  68.28231963,\n",
       "        69.81648789,  71.41012246,  73.06268013,  74.77416541,\n",
       "        76.54500722,  78.37603874,  80.26845279,  82.22377807,\n",
       "        84.24385777,  86.33083611,  88.48714961,  90.71552344,\n",
       "        93.01897216,  95.40080444,  97.86463171, 100.41438054,\n",
       "       103.05430868, 105.78902481, 108.62351224, 111.56315654,\n",
       "       114.61377759, 117.78166635, 121.07362677, 124.49702347,\n",
       "       128.05983589, 131.7707197 , 135.6390765 , 139.67513295,\n",
       "       143.89003081, 148.29592944, 152.90612287, 157.73517375,\n",
       "       162.79906702, 168.11538677, 173.70352038, 179.58489492,\n",
       "       185.78325197, 192.32496816, 199.23943072, 206.55947918,\n",
       "       214.32192733, 222.56818286])"
      ]
     },
     "execution_count": 70,
     "metadata": {},
     "output_type": "execute_result"
    }
   ],
   "source": [
    "(albuquerque_income_preds / albuquerque_rent_preds[3:])"
   ]
  },
  {
   "cell_type": "code",
   "execution_count": 66,
   "metadata": {},
   "outputs": [
    {
     "data": {
      "text/plain": [
       "array([911.48594626, 921.70080482, 922.48630041, 926.21263796,\n",
       "       928.40002541, 930.67079134, 932.43741964, 933.91267558,\n",
       "       935.01950755, 935.7858193 , 936.20150568, 936.27022619,\n",
       "       935.99065558, 935.36327377, 934.38790696, 933.0646181 ,\n",
       "       931.39338438, 929.37421407, 927.00710418, 924.29205578,\n",
       "       921.22906848, 917.81814244, 914.05927759, 909.95247395,\n",
       "       905.49773152, 900.6950503 , 895.54443029, 890.04587149,\n",
       "       884.19937389, 878.00493751, 871.46256234, 864.57224837,\n",
       "       857.33399562, 849.74780407, 841.81367374, 833.53160461,\n",
       "       824.90159669, 815.92364998, 806.59776448, 796.92394019,\n",
       "       786.90217711, 776.53247524, 765.81483458, 754.74925513,\n",
       "       743.33573689, 731.57427985, 719.46488403, 707.00754941,\n",
       "       694.202276  , 681.04906381, 667.54791282, 653.69882304,\n",
       "       639.50179447])"
      ]
     },
     "execution_count": 66,
     "metadata": {},
     "output_type": "execute_result"
    }
   ],
   "source": [
    "albuquerque_rent_preds"
   ]
  },
  {
   "cell_type": "code",
   "execution_count": 79,
   "metadata": {},
   "outputs": [],
   "source": [
    "df1 = pd.DataFrame({\"year\" : list(range(2022, 2071)), \"change_in_albuquerque_percent\" : np.diff(albuquerque_unemployment_preds)})\n",
    "df2 = pd.DataFrame({\"year\" : list(range(2022, 2071)), \"change_in_seattle_percent\" : np.diff(seattle_unemployment_preds)})"
   ]
  },
  {
   "cell_type": "code",
   "execution_count": 82,
   "metadata": {},
   "outputs": [],
   "source": [
    "df1.to_csv(\"albuquerque_unemployment_percent_change.csv\")\n",
    "df2.to_csv(\"seattle_unemployment_percent_change.csv\")"
   ]
  },
  {
   "cell_type": "code",
   "execution_count": null,
   "metadata": {},
   "outputs": [],
   "source": []
  }
 ],
 "metadata": {
  "kernelspec": {
   "display_name": "my_env",
   "language": "python",
   "name": "my_env"
  },
  "language_info": {
   "codemirror_mode": {
    "name": "ipython",
    "version": 3
   },
   "file_extension": ".py",
   "mimetype": "text/x-python",
   "name": "python",
   "nbconvert_exporter": "python",
   "pygments_lexer": "ipython3",
   "version": "3.8.3"
  }
 },
 "nbformat": 4,
 "nbformat_minor": 2
}
